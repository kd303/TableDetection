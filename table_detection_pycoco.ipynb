{
  "nbformat": 4,
  "nbformat_minor": 0,
  "metadata": {
    "colab": {
      "name": "table_detection_pycoco.ipynb",
      "provenance": [],
      "collapsed_sections": [],
      "mount_file_id": "15qqr2iDqNM6d-Me2_Pkuf7_ToQfvBfM7",
      "authorship_tag": "ABX9TyOzRjZfTeraadpOhAbTGLgH",
      "include_colab_link": true
    },
    "kernelspec": {
      "name": "python3",
      "display_name": "Python 3"
    },
    "accelerator": "GPU"
  },
  "cells": [
    {
      "cell_type": "markdown",
      "metadata": {
        "id": "view-in-github",
        "colab_type": "text"
      },
      "source": [
        "<a href=\"https://colab.research.google.com/github/kd303/TableDetection/blob/master/table_detection_pycoco.ipynb\" target=\"_parent\"><img src=\"https://colab.research.google.com/assets/colab-badge.svg\" alt=\"Open In Colab\"/></a>"
      ]
    },
    {
      "cell_type": "code",
      "metadata": {
        "id": "iwV-N81FRUKs",
        "colab_type": "code",
        "colab": {}
      },
      "source": [
        ""
      ],
      "execution_count": 0,
      "outputs": []
    },
    {
      "cell_type": "markdown",
      "metadata": {
        "id": "V4YkD8hVRcPr",
        "colab_type": "text"
      },
      "source": [
        "Code to connect to google drive, this is to ensure collab lists does not lose the data"
      ]
    },
    {
      "cell_type": "code",
      "metadata": {
        "id": "pQYYUqtHRj3V",
        "colab_type": "code",
        "colab": {}
      },
      "source": [
        "from pydrive.auth import GoogleAuth\n",
        "from pydrive.drive import GoogleDrive\n",
        "from google.colab import auth\n",
        "from oauth2client.client import GoogleCredentials"
      ],
      "execution_count": 0,
      "outputs": []
    },
    {
      "cell_type": "code",
      "metadata": {
        "id": "iapcW8FjRnfx",
        "colab_type": "code",
        "colab": {}
      },
      "source": [
        "auth.authenticate_user()\n",
        "gauth = GoogleAuth()\n",
        "gauth.credentials = GoogleCredentials.get_application_default()\n",
        "drive = GoogleDrive(gauth)"
      ],
      "execution_count": 0,
      "outputs": []
    },
    {
      "cell_type": "code",
      "metadata": {
        "id": "vijB34y-RulI",
        "colab_type": "code",
        "colab": {}
      },
      "source": [
        "%cd /content/drive/My\\ Drive/"
      ],
      "execution_count": 0,
      "outputs": []
    },
    {
      "cell_type": "code",
      "metadata": {
        "id": "a6B6vJ8UScfA",
        "colab_type": "code",
        "colab": {}
      },
      "source": [
        "# %mkdir table_detection\n",
        "\n",
        "%cd table_detection\n",
        "\n",
        "%pwd"
      ],
      "execution_count": 0,
      "outputs": []
    },
    {
      "cell_type": "code",
      "metadata": {
        "id": "64i_DiNTTYqE",
        "colab_type": "code",
        "colab": {}
      },
      "source": [
        "%pwd"
      ],
      "execution_count": 0,
      "outputs": []
    },
    {
      "cell_type": "code",
      "metadata": {
        "id": "vSsgBIqQTnjP",
        "colab_type": "code",
        "colab": {}
      },
      "source": [
        "!git clone --quiet https://github.com/tensorflow/models.git"
      ],
      "execution_count": 0,
      "outputs": []
    },
    {
      "cell_type": "markdown",
      "metadata": {
        "id": "nLvsq7O9V1Z7",
        "colab_type": "text"
      },
      "source": [
        "Following ***pip install*** has to happen everytime Collab is restarted"
      ]
    },
    {
      "cell_type": "code",
      "metadata": {
        "id": "r-agVlNlVuQS",
        "colab_type": "code",
        "colab": {}
      },
      "source": [
        ""
      ],
      "execution_count": 0,
      "outputs": []
    },
    {
      "cell_type": "code",
      "metadata": {
        "id": "oyJhMr41T4qm",
        "colab_type": "code",
        "colab": {}
      },
      "source": [
        "!apt-get install -qq protobuf-compiler python-tk"
      ],
      "execution_count": 0,
      "outputs": []
    },
    {
      "cell_type": "code",
      "metadata": {
        "id": "c5v-I6OGuXGl",
        "colab_type": "code",
        "colab": {}
      },
      "source": [
        "!pip install tensorflow-gpu==1.14"
      ],
      "execution_count": 0,
      "outputs": []
    },
    {
      "cell_type": "code",
      "metadata": {
        "id": "NKH19FXHT_dR",
        "colab_type": "code",
        "colab": {}
      },
      "source": [
        "!pip install -q pycocotools "
      ],
      "execution_count": 0,
      "outputs": []
    },
    {
      "cell_type": "markdown",
      "metadata": {
        "id": "wHxeHNkVV9Mx",
        "colab_type": "text"
      },
      "source": [
        "Following are for reference these does not need to happen everytime for Collab. However remember the working directory is always inside `my drive/table_detection`"
      ]
    },
    {
      "cell_type": "code",
      "metadata": {
        "id": "e_Bq7eYyUEdh",
        "colab_type": "code",
        "cellView": "both",
        "colab": {}
      },
      "source": [
        "#@title\n",
        "%cd /content/drive/My Drive/table_detection/models/research"
      ],
      "execution_count": 0,
      "outputs": []
    },
    {
      "cell_type": "code",
      "metadata": {
        "id": "gryRVtHNUJdo",
        "colab_type": "code",
        "cellView": "both",
        "colab": {}
      },
      "source": [
        "#@title\n",
        "!protoc object_detection/protos/*.proto --python_out=."
      ],
      "execution_count": 0,
      "outputs": []
    },
    {
      "cell_type": "code",
      "metadata": {
        "id": "OQfvb1u2UQns",
        "colab_type": "code",
        "cellView": "both",
        "colab": {}
      },
      "source": [
        "#@title\n",
        "%ls -ltr object_detection/protos/*.*"
      ],
      "execution_count": 0,
      "outputs": []
    },
    {
      "cell_type": "markdown",
      "metadata": {
        "id": "pv46JLpAVodX",
        "colab_type": "text"
      },
      "source": [
        "All one time commands till now are done."
      ]
    },
    {
      "cell_type": "code",
      "metadata": {
        "id": "3ZaG8qkgU1Vc",
        "colab_type": "code",
        "cellView": "both",
        "colab": {}
      },
      "source": [
        "#@title\n",
        "from google.colab import files\n",
        "uploaded = files.upload()"
      ],
      "execution_count": 0,
      "outputs": []
    },
    {
      "cell_type": "code",
      "metadata": {
        "id": "NEVp_bqQcq7b",
        "colab_type": "code",
        "colab": {}
      },
      "source": [
        "%pwd\n",
        "%ls -ltr /content/drive/My\\ Drive/table_detection/pre_trained_model/faster_rcnn_inception_v2_coco_2018_01_28"
      ],
      "execution_count": 0,
      "outputs": []
    },
    {
      "cell_type": "code",
      "metadata": {
        "id": "t3PfDDbq_QlF",
        "colab_type": "code",
        "colab": {}
      },
      "source": [
        "%cp table_detection_pipeline\\ \\(1\\).config table_detection_pipeline.config"
      ],
      "execution_count": 0,
      "outputs": []
    },
    {
      "cell_type": "code",
      "metadata": {
        "id": "cBFXiyUzAmLI",
        "colab_type": "code",
        "colab": {}
      },
      "source": [
        "%cp ./models/research/object_detection/* ./pipeline_config/"
      ],
      "execution_count": 0,
      "outputs": []
    },
    {
      "cell_type": "code",
      "metadata": {
        "id": "-g3iFbUqA7XL",
        "colab_type": "code",
        "colab": {}
      },
      "source": [
        "%ls -ltr ./pipeline_config/"
      ],
      "execution_count": 0,
      "outputs": []
    },
    {
      "cell_type": "markdown",
      "metadata": {
        "id": "ExXWO6J4BFfb",
        "colab_type": "text"
      },
      "source": [
        "%cp -r ./models/research/object_detection/* ./pipeline_config/"
      ]
    },
    {
      "cell_type": "code",
      "metadata": {
        "id": "K99_wzDyBJvg",
        "colab_type": "code",
        "colab": {}
      },
      "source": [
        "%rm -r pipeline_config  "
      ],
      "execution_count": 0,
      "outputs": []
    },
    {
      "cell_type": "code",
      "metadata": {
        "id": "6vYXV-M6BinV",
        "colab_type": "code",
        "colab": {}
      },
      "source": [
        "import os\n",
        "import shutil\n",
        "import glob\n",
        "import requests\n",
        "import tarfile\n",
        "\n",
        "MODEL = 'faster_rcnn_inception_v2_coco_2018_01_28'\n",
        "MODEL_FILE = MODEL + '.tar.gz'\n",
        "DOWNLOAD_BASE = 'http://download.tensorflow.org/models/object_detection/'\n",
        "DEST_DIR = '/content/drive/My Drive/table_detection/trained_models/'\n",
        "\n",
        "req = requests.get(DOWNLOAD_BASE + MODEL_FILE)\n",
        "with open(DEST_DIR + MODEL_FILE, 'wb' ) as f:\n",
        "  f.write(req.content) \n",
        "\n"
      ],
      "execution_count": 0,
      "outputs": []
    },
    {
      "cell_type": "code",
      "metadata": {
        "id": "_HLW6YWGJJvR",
        "colab_type": "code",
        "colab": {}
      },
      "source": [
        "tar = tarfile.open(DEST_DIR + MODEL_FILE)\n",
        "tar.extractall(path=DEST_DIR)\n",
        "tar.close()"
      ],
      "execution_count": 0,
      "outputs": []
    },
    {
      "cell_type": "code",
      "metadata": {
        "id": "xoTPSC9nqNpI",
        "colab_type": "code",
        "colab": {}
      },
      "source": [
        "%pwd\n",
        "# %cd /content/drive/My\\ Drive/table_detection/models/research\n",
        "%set_env PYTHONPATH=/project/pylib/src:/env/python:/content/drive/My Drive/table_detection/models/research/slim"
      ],
      "execution_count": 0,
      "outputs": []
    },
    {
      "cell_type": "code",
      "metadata": {
        "id": "EKHg8iB3sEpG",
        "colab_type": "code",
        "colab": {}
      },
      "source": [
        "! echo $PYTHONPATH"
      ],
      "execution_count": 0,
      "outputs": []
    },
    {
      "cell_type": "code",
      "metadata": {
        "id": "nSuFpBvlrkvC",
        "colab_type": "code",
        "colab": {}
      },
      "source": [
        "import sys\n",
        "sys.path.append('/content/drive/My Drive/table_detection/models/research/slim')"
      ],
      "execution_count": 0,
      "outputs": []
    },
    {
      "cell_type": "code",
      "metadata": {
        "id": "FfSR5vISvTk8",
        "colab_type": "code",
        "colab": {}
      },
      "source": [
        "%tensorflow_version 2.x\n",
        "!pip uninstall -y tensorflow\n",
        "!pip install tensorflow-gpu==1.14.0"
      ],
      "execution_count": 0,
      "outputs": []
    },
    {
      "cell_type": "code",
      "metadata": {
        "id": "07N4UOZ8wBGK",
        "colab_type": "code",
        "colab": {}
      },
      "source": [
        "%tensorflow_version"
      ],
      "execution_count": 0,
      "outputs": []
    },
    {
      "cell_type": "code",
      "metadata": {
        "id": "9pkHocDI6duh",
        "colab_type": "code",
        "colab": {}
      },
      "source": [
        "%tensorflow_version 1.x"
      ],
      "execution_count": 0,
      "outputs": []
    },
    {
      "cell_type": "code",
      "metadata": {
        "id": "W_smVj_30XhL",
        "colab_type": "code",
        "colab": {}
      },
      "source": [
        "!apt-get install -y -qq protobuf-compiler python-pil python-lxml"
      ],
      "execution_count": 0,
      "outputs": []
    },
    {
      "cell_type": "code",
      "metadata": {
        "id": "2QI43QyN0hVR",
        "colab_type": "code",
        "colab": {}
      },
      "source": [
        "%pwd"
      ],
      "execution_count": 0,
      "outputs": []
    },
    {
      "cell_type": "code",
      "metadata": {
        "id": "rfxpSeCd120m",
        "colab_type": "code",
        "colab": {}
      },
      "source": [
        "!pip install tensorflow-object-detection-api"
      ],
      "execution_count": 0,
      "outputs": []
    },
    {
      "cell_type": "code",
      "metadata": {
        "id": "bUKFqM0t5CI6",
        "colab_type": "code",
        "colab": {}
      },
      "source": [
        "!pip install --upgrade tf_slim"
      ],
      "execution_count": 0,
      "outputs": []
    },
    {
      "cell_type": "code",
      "metadata": {
        "id": "M_cdbH_AMZfx",
        "colab_type": "code",
        "colab": {}
      },
      "source": [
        "!pip3 install numpy==1.17.4"
      ],
      "execution_count": 0,
      "outputs": []
    },
    {
      "cell_type": "code",
      "metadata": {
        "id": "yElURiH4L2zn",
        "colab_type": "code",
        "colab": {}
      },
      "source": [
        "import numpy as np\n",
        "np.__version__"
      ],
      "execution_count": 0,
      "outputs": []
    },
    {
      "cell_type": "code",
      "metadata": {
        "id": "MCsaadcfzxKJ",
        "colab_type": "code",
        "colab": {}
      },
      "source": [
        "  \n",
        "import os\n",
        "os.environ['PYTHONPATH'] += \":/content/drive/My Drive/table_detection/models/research:/content/drive/My Drive/table_detection/models/research/slim\"\n",
        "\n",
        "! echo $PYTHONPATH"
      ],
      "execution_count": 0,
      "outputs": []
    },
    {
      "cell_type": "code",
      "metadata": {
        "id": "MGPvqu-e5UcT",
        "colab_type": "code",
        "colab": {}
      },
      "source": [
        "%cd /content/drive/My\\ Drive/table_detection/models/research/object_detection/"
      ],
      "execution_count": 0,
      "outputs": []
    },
    {
      "cell_type": "code",
      "metadata": {
        "id": "BzK_PGpA1zzg",
        "colab_type": "code",
        "colab": {}
      },
      "source": [
        "%rm -r /content/drive/My\\ Drive/table_detection/trained_models/*"
      ],
      "execution_count": 0,
      "outputs": []
    },
    {
      "cell_type": "code",
      "metadata": {
        "id": "MhVP5RMmP9gE",
        "colab_type": "code",
        "colab": {}
      },
      "source": [
        "%cp /content/drive/My Drive/table_detection/pre_trained_model/faster_rcnn_inception_v2_coco_2018_01_28/table_detection_pipeline\\ (1).config /content/drive/My Drive/table_detection/pre_trained_model/faster_rcnn_inception_v2_coco_2018_01_28/table_detection_pipeline.config"
      ],
      "execution_count": 0,
      "outputs": []
    },
    {
      "cell_type": "code",
      "metadata": {
        "id": "Y9NeREYo73wE",
        "colab_type": "code",
        "colab": {}
      },
      "source": [
        "%load_ext tensorboard"
      ],
      "execution_count": 0,
      "outputs": []
    },
    {
      "cell_type": "code",
      "metadata": {
        "id": "iIqfgicuPx4e",
        "colab_type": "code",
        "colab": {}
      },
      "source": [
        "!python model_main.py \\\n",
        "    --pipeline_config_path=/content/drive/My\\ Drive/table_detection/pre_trained_model/faster_rcnn_inception_v2_coco_2018_01_28/table_detection_pipeline.config \\\n",
        "    --model_dir=/content/drive/My\\ Drive/table_detection/trained_models \\\n",
        "    --alsologtostderr \\\n",
        "    --num_train_steps=50000 \\\n",
        "    --num_eval_steps=500"
      ],
      "execution_count": 0,
      "outputs": []
    },
    {
      "cell_type": "code",
      "metadata": {
        "id": "cLePFI4WTQ8A",
        "colab_type": "code",
        "colab": {}
      },
      "source": [
        "# Tensorboard \n",
        "\n",
        "%load_ext tensorboard\n",
        "\n",
        "%tensorboard --logdir=/content/drive/My\\ Drive/table_detection/trained_models"
      ],
      "execution_count": 0,
      "outputs": []
    },
    {
      "cell_type": "code",
      "metadata": {
        "id": "TGBOhDvKp4Om",
        "colab_type": "code",
        "colab": {}
      },
      "source": [
        "%pwd"
      ],
      "execution_count": 0,
      "outputs": []
    },
    {
      "cell_type": "code",
      "metadata": {
        "id": "83nv2T12duzL",
        "colab_type": "code",
        "colab": {}
      },
      "source": [
        "%cd /content/drive/My Drive/table_detection"
      ],
      "execution_count": 0,
      "outputs": []
    },
    {
      "cell_type": "code",
      "metadata": {
        "id": "Z4qCV7cm8Isx",
        "colab_type": "code",
        "colab": {}
      },
      "source": [
        "lst = os.listdir('trained_models')\n",
        "lf = filter(lambda k: 'model.ckpt-' in k, lst)\n",
        "last_model = sorted(lf)[-1].replace('.meta', '')"
      ],
      "execution_count": 0,
      "outputs": []
    },
    {
      "cell_type": "code",
      "metadata": {
        "id": "iheaQxqZd1ap",
        "colab_type": "code",
        "colab": {}
      },
      "source": [
        "print(last_model)"
      ],
      "execution_count": 0,
      "outputs": []
    },
    {
      "cell_type": "code",
      "metadata": {
        "id": "gLnT29yLd-sY",
        "colab_type": "code",
        "colab": {}
      },
      "source": [
        "!python ./models/research/object_detection/export_inference_graph.py \\\n",
        "    --input_type=image_tensor \\\n",
        "    --pipeline_config_path=/content/drive/My\\ Drive/table_detection/pre_trained_model/faster_rcnn_inception_v2_coco_2018_01_28/table_detection_pipeline.config \\\n",
        "    --output_directory=/content/drive/My\\ Drive/table_detection/fine_tuned_model \\\n",
        "    --trained_checkpoint_prefix=/content/drive/My\\ Drive/table_detection/trained_models/$last_model"
      ],
      "execution_count": 0,
      "outputs": []
    },
    {
      "cell_type": "code",
      "metadata": {
        "id": "DTTF2_lceU2C",
        "colab_type": "code",
        "colab": {}
      },
      "source": [
        "%cd /content/drive/My Drive/table_detection/data\n",
        "\n",
        "from google.colab import files\n",
        "from os import path\n",
        "\n",
        "uploaded = files.upload()\n",
        "  \n"
      ],
      "execution_count": 0,
      "outputs": []
    },
    {
      "cell_type": "code",
      "metadata": {
        "id": "zlDqRwdCgEgk",
        "colab_type": "code",
        "colab": {}
      },
      "source": [
        "import numpy as np\n",
        "import os\n",
        "import six.moves.urllib as urllib\n",
        "import sys\n",
        "import tarfile\n",
        "import tensorflow as tf\n",
        "import zipfile\n",
        "\n",
        "from collections import defaultdict\n",
        "from io import StringIO\n",
        "from matplotlib import pyplot as plt\n",
        "\n",
        "from PIL import Image\n",
        "\n",
        "# This is needed since the notebook is stored in the object_detection folder.\n",
        "sys.path.append(\"./\")\n",
        "from object_detection.utils import ops as utils_ops\n",
        "\n",
        "# This is needed to display the images.\n",
        "%matplotlib inline\n",
        "\n",
        "\n",
        "\n",
        "\n",
        "from object_detection.utils import label_map_util\n",
        "\n",
        "from object_detection.utils import visualization_utils as vis_util\n"
      ],
      "execution_count": 0,
      "outputs": []
    },
    {
      "cell_type": "code",
      "metadata": {
        "id": "9zNjBmG7g7Gf",
        "colab_type": "code",
        "colab": {}
      },
      "source": [
        "# function to convert image to np array\n",
        "def load_image_into_numpy_array(image):\n",
        "  (im_width, im_height) = image.size\n",
        "  return np.array(image.getdata()).reshape(\n",
        "      (im_height, im_width, 3)).astype(np.uint8)"
      ],
      "execution_count": 0,
      "outputs": []
    },
    {
      "cell_type": "code",
      "metadata": {
        "id": "Uffiun3m-pqV",
        "colab_type": "code",
        "colab": {}
      },
      "source": [
        "%tensorflow_version 1.x"
      ],
      "execution_count": 0,
      "outputs": []
    },
    {
      "cell_type": "code",
      "metadata": {
        "id": "1_Ad2JZtgIVw",
        "colab_type": "code",
        "colab": {}
      },
      "source": [
        "# What model to download.\n",
        "# Path to frozen detection graph. This is the actual model that is used for the object detection.\n",
        "PATH_TO_CKPT = '/content/drive/My Drive/table_detection/fine_tuned_model' + '/frozen_inference_graph.pb'\n",
        "\n",
        "# List of the strings that is used to add correct label for each box.\n",
        "PATH_TO_LABELS = os.path.join('/content/drive/My Drive/table_detection/pre_trained_model/faster_rcnn_inception_v2_coco_2018_01_28', 'labelmap.pbtxt')\n",
        "\n",
        "NUM_CLASSES = 1\n",
        "# label to text\n",
        "\n",
        "label_map = label_map_util.load_labelmap(PATH_TO_LABELS)\n",
        "categories = label_map_util.convert_label_map_to_categories(label_map, max_num_classes=NUM_CLASSES, use_display_name=True)\n",
        "category_index = label_map_util.create_category_index(categories)\n",
        "\n",
        "detection_graph = tf.Graph()\n",
        "with detection_graph.as_default():\n",
        "  od_graph_def = tf.GraphDef()\n",
        "  with tf.gfile.GFile(PATH_TO_CKPT, 'rb') as fid:\n",
        "    serialized_graph = fid.read()\n",
        "    od_graph_def.ParseFromString(serialized_graph)\n",
        "    tf.import_graph_def(od_graph_def, name='')"
      ],
      "execution_count": 0,
      "outputs": []
    },
    {
      "cell_type": "code",
      "metadata": {
        "id": "nNV1CrXIAhFU",
        "colab_type": "code",
        "colab": {}
      },
      "source": [
        "import glob\n",
        "PATH_TO_TEST_IMAGES_DIR = '/content/drive/My Drive/table_detection/data/test_images/'\n",
        "TEST_IMAGES = os.listdir(PATH_TO_TEST_IMAGES_DIR)\n",
        "\n",
        "print(TEST_IMAGES)\n",
        "TEST_IMAGE_PATHS = [os.path.join(PATH_TO_TEST_IMAGES_DIR, img) for img in TEST_IMAGES]\n",
        "print(TEST_IMAGE_PATHS)"
      ],
      "execution_count": 0,
      "outputs": []
    },
    {
      "cell_type": "code",
      "metadata": {
        "id": "D1BOqYyqhU7W",
        "colab_type": "code",
        "colab": {}
      },
      "source": [
        " # If you want to test the code with your images, just add path to the images to the TEST_IMAGE_PATHS.\n",
        "\n",
        "# TEST_IMAGE_PATHS = [ os.path.join(PATH_TO_TEST_IMAGES_DIR, 'image{}.jpg'.format(i)) for i in range(1, 2) ]\n",
        "\n",
        "# Size, in inches, of the output images. # will have to see why this is imp\n",
        "IMAGE_SIZE = (100, 80)\n",
        "\n",
        "\n",
        "\n",
        "\n",
        "def run_inference_for_single_image(image, graph):\n",
        "  with graph.as_default():\n",
        "    with tf.Session() as sess:\n",
        "      # Get handles to input and output tensors\n",
        "      ops = tf.get_default_graph().get_operations()\n",
        "      all_tensor_names = {output.name for op in ops for output in op.outputs}\n",
        "      tensor_dict = {}\n",
        "      for key in [\n",
        "          'num_detections', 'detection_boxes', 'detection_scores',\n",
        "          'detection_classes', 'detection_masks'\n",
        "      ]:\n",
        "        tensor_name = key + ':0'\n",
        "        if tensor_name in all_tensor_names:\n",
        "          tensor_dict[key] = tf.get_default_graph().get_tensor_by_name(\n",
        "              tensor_name)\n",
        "      if 'detection_masks' in tensor_dict:\n",
        "        # The following processing is only for single image\n",
        "        detection_boxes = tf.squeeze(tensor_dict['detection_boxes'], [0])\n",
        "        detection_masks = tf.squeeze(tensor_dict['detection_masks'], [0])\n",
        "        # Reframe is required to translate mask from box coordinates to image coordinates and fit the image size.\n",
        "        real_num_detection = tf.cast(tensor_dict['num_detections'][0], tf.int32)\n",
        "        detection_boxes = tf.slice(detection_boxes, [0, 0], [real_num_detection, -1])\n",
        "        detection_masks = tf.slice(detection_masks, [0, 0, 0], [real_num_detection, -1, -1])\n",
        "        detection_masks_reframed = utils_ops.reframe_box_masks_to_image_masks(\n",
        "            detection_masks, detection_boxes, image.shape[0], image.shape[1])\n",
        "        detection_masks_reframed = tf.cast(\n",
        "            tf.greater(detection_masks_reframed, 0.5), tf.uint8)\n",
        "        # Follow the convention by adding back the batch dimension\n",
        "        tensor_dict['detection_masks'] = tf.expand_dims(\n",
        "            detection_masks_reframed, 0)\n",
        "      image_tensor = tf.get_default_graph().get_tensor_by_name('image_tensor:0')\n",
        "\n",
        "      # Run inference\n",
        "      output_dict = sess.run(tensor_dict,\n",
        "                             feed_dict={image_tensor: np.expand_dims(image, 0)})\n",
        "\n",
        "      # all outputs are float32 numpy arrays, so convert types as appropriate\n",
        "      output_dict['num_detections'] = int(output_dict['num_detections'][0])\n",
        "      output_dict['detection_classes'] = output_dict[\n",
        "          'detection_classes'][0].astype(np.uint8)\n",
        "      output_dict['detection_boxes'] = output_dict['detection_boxes'][0]\n",
        "      output_dict['detection_scores'] = output_dict['detection_scores'][0]\n",
        "      if 'detection_masks' in output_dict:\n",
        "        output_dict['detection_masks'] = output_dict['detection_masks'][0]\n",
        "  return output_dict"
      ],
      "execution_count": 0,
      "outputs": []
    },
    {
      "cell_type": "code",
      "metadata": {
        "id": "F2leB2biiA-p",
        "colab_type": "code",
        "colab": {}
      },
      "source": [
        "IMAGE_SIZE = (100, 80) \n",
        "\n",
        "for image_path in TEST_IMAGE_PATHS:\n",
        "  image = Image.open(image_path)\n",
        "  # the array based representation of the image will be used later in order to prepare the\n",
        "  # result image with boxes and labels on it.\n",
        "  image_np = load_image_into_numpy_array(image)\n",
        "  # Expand dimensions since the model expects images to have shape: [1, None, None, 3]\n",
        "  image_np_expanded = np.expand_dims(image_np, axis=0)\n",
        "  # Actual detection.\n",
        "  output_dict = run_inference_for_single_image(image_np, detection_graph)\n",
        "  # Visualization of the results of a detection.\n",
        "  print('Printing images '+image_path)\n",
        "  # print(output_dict['detection_boxes'])\n",
        "  # print(output_dict['detection_classes'])\n",
        "  vis_util.visualize_boxes_and_labels_on_image_array(\n",
        "      image_np,\n",
        "      output_dict['detection_boxes'],\n",
        "      output_dict['detection_classes'],\n",
        "      output_dict['detection_scores'],\n",
        "      category_index,\n",
        "      instance_masks=output_dict.get('detection_masks'),\n",
        "      use_normalized_coordinates=True,\n",
        "      line_thickness=8)\n",
        "  plt.figure(figsize=IMAGE_SIZE)\n",
        "  plt.imshow(image_np)"
      ],
      "execution_count": 0,
      "outputs": []
    },
    {
      "cell_type": "code",
      "metadata": {
        "id": "BoRnkbi6BFXv",
        "colab_type": "code",
        "colab": {}
      },
      "source": [
        "TEST_IMAGE_PATHS"
      ],
      "execution_count": 0,
      "outputs": []
    },
    {
      "cell_type": "code",
      "metadata": {
        "id": "GKp2roETAy9R",
        "colab_type": "code",
        "colab": {}
      },
      "source": [
        ""
      ],
      "execution_count": 0,
      "outputs": []
    }
  ]
}